{
 "cells": [
  {
   "cell_type": "code",
   "execution_count": 1,
   "metadata": {},
   "outputs": [],
   "source": [
    "# Importing PlaidML. Make sure you follow this order\n",
    "import plaidml.keras\n",
    "plaidml.keras.install_backend()\n",
    "import os\n",
    "os.environ[\"KERAS_BACKEND\"] = \"plaidml.keras.backend\""
   ]
  },
  {
   "cell_type": "code",
   "execution_count": 2,
   "metadata": {},
   "outputs": [],
   "source": [
    "import keras\n",
    "from keras.models import Sequential\n",
    "from keras.layers import Dense, Dropout, Flatten\n",
    "from keras.layers import Conv2D, MaxPooling2D\n",
    "from keras import backend as K\n",
    "\n",
    "# Download fashion dataset from Keras\n",
    "fashion_mnist = keras.datasets.fashion_mnist\n",
    "(x_train, y_train), (x_test, y_test) = keras.datasets.fashion_mnist.load_data()\n",
    "\n",
    "# Reshape and normalize the data\n",
    "x_train = x_train.astype('float32').reshape(60000,28,28,1) / 255\n",
    "x_test = x_test.astype('float32').reshape(10000,28,28,1) / 255"
   ]
  },
  {
   "cell_type": "code",
   "execution_count": 3,
   "metadata": {},
   "outputs": [
    {
     "name": "stderr",
     "output_type": "stream",
     "text": [
      "INFO:plaidml:Opening device \"opencl_amd_radeon_pro_vega_ii_duo_compute_engine.0\"\n"
     ]
    }
   ],
   "source": [
    "# Build a CNN model. You should see \"INFO:plaidml:Opening device xxx\" after you run this chunk\n",
    "model = keras.Sequential()\n",
    "model.add(keras.layers.Conv2D(filters=64, kernel_size=2, padding='same', activation='relu', input_shape=(28,28,1))) \n",
    "model.add(keras.layers.MaxPooling2D(pool_size=2))\n",
    "model.add(keras.layers.Dropout(0.3))\n",
    "model.add(keras.layers.Conv2D(filters=32, kernel_size=2, padding='same', activation='relu'))\n",
    "model.add(keras.layers.MaxPooling2D(pool_size=2))\n",
    "model.add(keras.layers.Dropout(0.3))\n",
    "model.add(keras.layers.Flatten())\n",
    "model.add(keras.layers.Dense(256, activation='relu'))\n",
    "model.add(keras.layers.Dropout(0.5))\n",
    "model.add(keras.layers.Dense(10, activation='softmax'))"
   ]
  },
  {
   "cell_type": "code",
   "execution_count": 4,
   "metadata": {},
   "outputs": [],
   "source": [
    "# Compile the model\n",
    "model.compile(optimizer='adam',\n",
    "              loss=keras.losses.sparse_categorical_crossentropy,\n",
    "              metrics=['accuracy'])"
   ]
  },
  {
   "cell_type": "code",
   "execution_count": 5,
   "metadata": {},
   "outputs": [
    {
     "name": "stdout",
     "output_type": "stream",
     "text": [
      "Epoch 1/10\n",
      "60000/60000 [==============================] - 11s 182us/step - loss: nan - acc: 0.1000\n",
      "Epoch 2/10\n",
      "60000/60000 [==============================] - 10s 173us/step - loss: nan - acc: 0.1000\n",
      "Epoch 3/10\n",
      "60000/60000 [==============================] - 10s 169us/step - loss: nan - acc: 0.1000\n",
      "Epoch 4/10\n",
      "60000/60000 [==============================] - 11s 187us/step - loss: nan - acc: 0.1000\n",
      "Epoch 5/10\n",
      "60000/60000 [==============================] - 11s 179us/step - loss: nan - acc: 0.1000\n",
      "Epoch 6/10\n",
      "60000/60000 [==============================] - 10s 172us/step - loss: nan - acc: 0.1000\n",
      "Epoch 7/10\n",
      "60000/60000 [==============================] - 10s 173us/step - loss: nan - acc: 0.1000\n",
      "Epoch 8/10\n",
      "60000/60000 [==============================] - 10s 174us/step - loss: nan - acc: 0.1000\n",
      "Epoch 9/10\n",
      "60000/60000 [==============================] - 11s 177us/step - loss: nan - acc: 0.1000\n",
      "Epoch 10/10\n",
      "60000/60000 [==============================] - 10s 172us/step - loss: nan - acc: 0.1000\n",
      "\n",
      " Test accuracy: 0.1\n"
     ]
    }
   ],
   "source": [
    "# Fit the model on training set\n",
    "model.fit(x_train, y_train,\n",
    "          batch_size=64,\n",
    "          epochs=10)\n",
    "\n",
    "# Evaluate the model on test set\n",
    "score = model.evaluate(x_test, y_test, verbose=0)\n",
    "# Print test accuracy\n",
    "print('\\n', 'Test accuracy:', score[1])"
   ]
  },
  {
   "cell_type": "code",
   "execution_count": null,
   "metadata": {},
   "outputs": [],
   "source": []
  }
 ],
 "metadata": {
  "kernelspec": {
   "display_name": "Python 3",
   "language": "python",
   "name": "python3"
  },
  "language_info": {
   "codemirror_mode": {
    "name": "ipython",
    "version": 3
   },
   "file_extension": ".py",
   "mimetype": "text/x-python",
   "name": "python",
   "nbconvert_exporter": "python",
   "pygments_lexer": "ipython3",
   "version": "3.7.7"
  }
 },
 "nbformat": 4,
 "nbformat_minor": 4
}
